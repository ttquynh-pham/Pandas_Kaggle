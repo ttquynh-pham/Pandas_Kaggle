{
 "cells": [
  {
   "cell_type": "markdown",
   "id": "c16fb7f1",
   "metadata": {
    "papermill": {
     "duration": 0.014432,
     "end_time": "2022-03-26T15:21:16.678615",
     "exception": false,
     "start_time": "2022-03-26T15:21:16.664183",
     "status": "completed"
    },
    "tags": []
   },
   "source": [
    "**This notebook is an exercise in the [Pandas](https://www.kaggle.com/learn/pandas) course.  You can reference the tutorial at [this link](https://www.kaggle.com/residentmario/data-types-and-missing-values).**\n",
    "\n",
    "---\n"
   ]
  },
  {
   "cell_type": "markdown",
   "id": "0161a1b9",
   "metadata": {
    "papermill": {
     "duration": 0.013465,
     "end_time": "2022-03-26T15:21:16.707729",
     "exception": false,
     "start_time": "2022-03-26T15:21:16.694264",
     "status": "completed"
    },
    "tags": []
   },
   "source": [
    "# Introduction\n",
    "\n",
    "Run the following cell to load your data and some utility functions."
   ]
  },
  {
   "cell_type": "code",
   "execution_count": 1,
   "id": "8a76d0d8",
   "metadata": {
    "execution": {
     "iopub.execute_input": "2022-03-26T15:21:16.738665Z",
     "iopub.status.busy": "2022-03-26T15:21:16.737825Z",
     "iopub.status.idle": "2022-03-26T15:21:19.288170Z",
     "shell.execute_reply": "2022-03-26T15:21:19.288651Z",
     "shell.execute_reply.started": "2022-03-26T15:19:14.450972Z"
    },
    "papermill": {
     "duration": 2.567573,
     "end_time": "2022-03-26T15:21:19.288899",
     "exception": false,
     "start_time": "2022-03-26T15:21:16.721326",
     "status": "completed"
    },
    "tags": []
   },
   "outputs": [
    {
     "name": "stdout",
     "output_type": "stream",
     "text": [
      "Setup complete.\n"
     ]
    }
   ],
   "source": [
    "import pandas as pd\n",
    "\n",
    "reviews = pd.read_csv(\"../input/wine-reviews/winemag-data-130k-v2.csv\", index_col=0)\n",
    "\n",
    "from learntools.core import binder; binder.bind(globals())\n",
    "from learntools.pandas.data_types_and_missing_data import *\n",
    "print(\"Setup complete.\")"
   ]
  },
  {
   "cell_type": "markdown",
   "id": "48e5c751",
   "metadata": {
    "papermill": {
     "duration": 0.013919,
     "end_time": "2022-03-26T15:21:19.317462",
     "exception": false,
     "start_time": "2022-03-26T15:21:19.303543",
     "status": "completed"
    },
    "tags": []
   },
   "source": [
    "# Exercises"
   ]
  },
  {
   "cell_type": "markdown",
   "id": "6d934f57",
   "metadata": {
    "papermill": {
     "duration": 0.013885,
     "end_time": "2022-03-26T15:21:19.345685",
     "exception": false,
     "start_time": "2022-03-26T15:21:19.331800",
     "status": "completed"
    },
    "tags": []
   },
   "source": [
    "## 1. \n",
    "What is the data type of the `points` column in the dataset?"
   ]
  },
  {
   "cell_type": "code",
   "execution_count": 2,
   "id": "3b7cdb04",
   "metadata": {
    "execution": {
     "iopub.execute_input": "2022-03-26T15:21:19.377331Z",
     "iopub.status.busy": "2022-03-26T15:21:19.376860Z",
     "iopub.status.idle": "2022-03-26T15:21:19.396964Z",
     "shell.execute_reply": "2022-03-26T15:21:19.397318Z",
     "shell.execute_reply.started": "2022-03-26T10:17:37.024016Z"
    },
    "papermill": {
     "duration": 0.037281,
     "end_time": "2022-03-26T15:21:19.397461",
     "exception": false,
     "start_time": "2022-03-26T15:21:19.360180",
     "status": "completed"
    },
    "tags": []
   },
   "outputs": [
    {
     "data": {
      "text/html": [
       "<div>\n",
       "<style scoped>\n",
       "    .dataframe tbody tr th:only-of-type {\n",
       "        vertical-align: middle;\n",
       "    }\n",
       "\n",
       "    .dataframe tbody tr th {\n",
       "        vertical-align: top;\n",
       "    }\n",
       "\n",
       "    .dataframe thead th {\n",
       "        text-align: right;\n",
       "    }\n",
       "</style>\n",
       "<table border=\"1\" class=\"dataframe\">\n",
       "  <thead>\n",
       "    <tr style=\"text-align: right;\">\n",
       "      <th></th>\n",
       "      <th>country</th>\n",
       "      <th>description</th>\n",
       "      <th>designation</th>\n",
       "      <th>points</th>\n",
       "      <th>price</th>\n",
       "      <th>province</th>\n",
       "      <th>region_1</th>\n",
       "      <th>region_2</th>\n",
       "      <th>taster_name</th>\n",
       "      <th>taster_twitter_handle</th>\n",
       "      <th>title</th>\n",
       "      <th>variety</th>\n",
       "      <th>winery</th>\n",
       "    </tr>\n",
       "  </thead>\n",
       "  <tbody>\n",
       "    <tr>\n",
       "      <th>0</th>\n",
       "      <td>Italy</td>\n",
       "      <td>Aromas include tropical fruit, broom, brimston...</td>\n",
       "      <td>Vulkà Bianco</td>\n",
       "      <td>87</td>\n",
       "      <td>NaN</td>\n",
       "      <td>Sicily &amp; Sardinia</td>\n",
       "      <td>Etna</td>\n",
       "      <td>NaN</td>\n",
       "      <td>Kerin O’Keefe</td>\n",
       "      <td>@kerinokeefe</td>\n",
       "      <td>Nicosia 2013 Vulkà Bianco  (Etna)</td>\n",
       "      <td>White Blend</td>\n",
       "      <td>Nicosia</td>\n",
       "    </tr>\n",
       "    <tr>\n",
       "      <th>1</th>\n",
       "      <td>Portugal</td>\n",
       "      <td>This is ripe and fruity, a wine that is smooth...</td>\n",
       "      <td>Avidagos</td>\n",
       "      <td>87</td>\n",
       "      <td>15.0</td>\n",
       "      <td>Douro</td>\n",
       "      <td>NaN</td>\n",
       "      <td>NaN</td>\n",
       "      <td>Roger Voss</td>\n",
       "      <td>@vossroger</td>\n",
       "      <td>Quinta dos Avidagos 2011 Avidagos Red (Douro)</td>\n",
       "      <td>Portuguese Red</td>\n",
       "      <td>Quinta dos Avidagos</td>\n",
       "    </tr>\n",
       "    <tr>\n",
       "      <th>2</th>\n",
       "      <td>US</td>\n",
       "      <td>Tart and snappy, the flavors of lime flesh and...</td>\n",
       "      <td>NaN</td>\n",
       "      <td>87</td>\n",
       "      <td>14.0</td>\n",
       "      <td>Oregon</td>\n",
       "      <td>Willamette Valley</td>\n",
       "      <td>Willamette Valley</td>\n",
       "      <td>Paul Gregutt</td>\n",
       "      <td>@paulgwine</td>\n",
       "      <td>Rainstorm 2013 Pinot Gris (Willamette Valley)</td>\n",
       "      <td>Pinot Gris</td>\n",
       "      <td>Rainstorm</td>\n",
       "    </tr>\n",
       "  </tbody>\n",
       "</table>\n",
       "</div>"
      ],
      "text/plain": [
       "    country                                        description   designation  \\\n",
       "0     Italy  Aromas include tropical fruit, broom, brimston...  Vulkà Bianco   \n",
       "1  Portugal  This is ripe and fruity, a wine that is smooth...      Avidagos   \n",
       "2        US  Tart and snappy, the flavors of lime flesh and...           NaN   \n",
       "\n",
       "   points  price           province           region_1           region_2  \\\n",
       "0      87    NaN  Sicily & Sardinia               Etna                NaN   \n",
       "1      87   15.0              Douro                NaN                NaN   \n",
       "2      87   14.0             Oregon  Willamette Valley  Willamette Valley   \n",
       "\n",
       "     taster_name taster_twitter_handle  \\\n",
       "0  Kerin O’Keefe          @kerinokeefe   \n",
       "1     Roger Voss            @vossroger   \n",
       "2   Paul Gregutt           @paulgwine    \n",
       "\n",
       "                                           title         variety  \\\n",
       "0              Nicosia 2013 Vulkà Bianco  (Etna)     White Blend   \n",
       "1  Quinta dos Avidagos 2011 Avidagos Red (Douro)  Portuguese Red   \n",
       "2  Rainstorm 2013 Pinot Gris (Willamette Valley)      Pinot Gris   \n",
       "\n",
       "                winery  \n",
       "0              Nicosia  \n",
       "1  Quinta dos Avidagos  \n",
       "2            Rainstorm  "
      ]
     },
     "execution_count": 2,
     "metadata": {},
     "output_type": "execute_result"
    }
   ],
   "source": [
    "reviews.head(3)"
   ]
  },
  {
   "cell_type": "code",
   "execution_count": 3,
   "id": "415893ce",
   "metadata": {
    "execution": {
     "iopub.execute_input": "2022-03-26T15:21:19.430802Z",
     "iopub.status.busy": "2022-03-26T15:21:19.430288Z",
     "iopub.status.idle": "2022-03-26T15:21:19.434838Z",
     "shell.execute_reply": "2022-03-26T15:21:19.435270Z",
     "shell.execute_reply.started": "2022-03-26T15:19:24.481713Z"
    },
    "papermill": {
     "duration": 0.023021,
     "end_time": "2022-03-26T15:21:19.435477",
     "exception": false,
     "start_time": "2022-03-26T15:21:19.412456",
     "status": "completed"
    },
    "tags": []
   },
   "outputs": [
    {
     "data": {
      "application/javascript": [
       "parent.postMessage({\"jupyterEvent\": \"custom.exercise_interaction\", \"data\": {\"outcomeType\": 1, \"valueTowardsCompletion\": 0.25, \"interactionType\": 1, \"questionType\": 1, \"questionId\": \"1_PointsDtype\", \"learnToolsVersion\": \"0.3.4\", \"failureMessage\": \"\", \"exceptionClass\": \"\", \"trace\": \"\"}}, \"*\")"
      ],
      "text/plain": [
       "<IPython.core.display.Javascript object>"
      ]
     },
     "metadata": {},
     "output_type": "display_data"
    },
    {
     "data": {
      "text/markdown": [
       "<span style=\"color:#33cc33\">Correct</span>"
      ],
      "text/plain": [
       "Correct"
      ]
     },
     "metadata": {},
     "output_type": "display_data"
    }
   ],
   "source": [
    "# Your code here\n",
    "dtype = reviews['points'].dtype \n",
    "\n",
    "# Check your answer\n",
    "q1.check()"
   ]
  },
  {
   "cell_type": "code",
   "execution_count": 4,
   "id": "b1c7325c",
   "metadata": {
    "execution": {
     "iopub.execute_input": "2022-03-26T15:21:19.470376Z",
     "iopub.status.busy": "2022-03-26T15:21:19.469902Z",
     "iopub.status.idle": "2022-03-26T15:21:19.472255Z",
     "shell.execute_reply": "2022-03-26T15:21:19.472612Z"
    },
    "papermill": {
     "duration": 0.021336,
     "end_time": "2022-03-26T15:21:19.472758",
     "exception": false,
     "start_time": "2022-03-26T15:21:19.451422",
     "status": "completed"
    },
    "tags": []
   },
   "outputs": [],
   "source": [
    "#q1.hint()\n",
    "#q1.solution()"
   ]
  },
  {
   "cell_type": "markdown",
   "id": "ffbe1f43",
   "metadata": {
    "papermill": {
     "duration": 0.015461,
     "end_time": "2022-03-26T15:21:19.503935",
     "exception": false,
     "start_time": "2022-03-26T15:21:19.488474",
     "status": "completed"
    },
    "tags": []
   },
   "source": [
    "## 2. \n",
    "Create a Series from entries in the `points` column, but convert the entries to strings. Hint: strings are `str` in native Python."
   ]
  },
  {
   "cell_type": "code",
   "execution_count": 5,
   "id": "91075359",
   "metadata": {
    "execution": {
     "iopub.execute_input": "2022-03-26T15:21:19.537955Z",
     "iopub.status.busy": "2022-03-26T15:21:19.537449Z",
     "iopub.status.idle": "2022-03-26T15:21:19.614844Z",
     "shell.execute_reply": "2022-03-26T15:21:19.615228Z",
     "shell.execute_reply.started": "2022-03-26T15:19:27.475607Z"
    },
    "papermill": {
     "duration": 0.095607,
     "end_time": "2022-03-26T15:21:19.615358",
     "exception": false,
     "start_time": "2022-03-26T15:21:19.519751",
     "status": "completed"
    },
    "tags": []
   },
   "outputs": [
    {
     "data": {
      "application/javascript": [
       "parent.postMessage({\"jupyterEvent\": \"custom.exercise_interaction\", \"data\": {\"outcomeType\": 1, \"valueTowardsCompletion\": 0.25, \"interactionType\": 1, \"questionType\": 1, \"questionId\": \"2_StrPoints\", \"learnToolsVersion\": \"0.3.4\", \"failureMessage\": \"\", \"exceptionClass\": \"\", \"trace\": \"\"}}, \"*\")"
      ],
      "text/plain": [
       "<IPython.core.display.Javascript object>"
      ]
     },
     "metadata": {},
     "output_type": "display_data"
    },
    {
     "data": {
      "text/markdown": [
       "<span style=\"color:#33cc33\">Correct</span>"
      ],
      "text/plain": [
       "Correct"
      ]
     },
     "metadata": {},
     "output_type": "display_data"
    }
   ],
   "source": [
    "point_strings = reviews['points'].astype('str')\n",
    "\n",
    "# Check your answer\n",
    "q2.check()"
   ]
  },
  {
   "cell_type": "code",
   "execution_count": 6,
   "id": "87ab2f01",
   "metadata": {
    "execution": {
     "iopub.execute_input": "2022-03-26T15:21:19.652462Z",
     "iopub.status.busy": "2022-03-26T15:21:19.651926Z",
     "iopub.status.idle": "2022-03-26T15:21:19.653798Z",
     "shell.execute_reply": "2022-03-26T15:21:19.654258Z"
    },
    "papermill": {
     "duration": 0.02229,
     "end_time": "2022-03-26T15:21:19.654397",
     "exception": false,
     "start_time": "2022-03-26T15:21:19.632107",
     "status": "completed"
    },
    "tags": []
   },
   "outputs": [],
   "source": [
    "#q2.hint()\n",
    "#q2.solution()"
   ]
  },
  {
   "cell_type": "markdown",
   "id": "3cc0ac7a",
   "metadata": {
    "papermill": {
     "duration": 0.016402,
     "end_time": "2022-03-26T15:21:19.687613",
     "exception": false,
     "start_time": "2022-03-26T15:21:19.671211",
     "status": "completed"
    },
    "tags": []
   },
   "source": [
    "## 3.\n",
    "Sometimes the price column is null. How many reviews in the dataset are missing a price?"
   ]
  },
  {
   "cell_type": "code",
   "execution_count": 7,
   "id": "8d4e089c",
   "metadata": {
    "execution": {
     "iopub.execute_input": "2022-03-26T15:21:19.724078Z",
     "iopub.status.busy": "2022-03-26T15:21:19.723600Z",
     "iopub.status.idle": "2022-03-26T15:21:19.729150Z",
     "shell.execute_reply": "2022-03-26T15:21:19.729533Z",
     "shell.execute_reply.started": "2022-03-26T15:19:30.545277Z"
    },
    "papermill": {
     "duration": 0.02531,
     "end_time": "2022-03-26T15:21:19.729664",
     "exception": false,
     "start_time": "2022-03-26T15:21:19.704354",
     "status": "completed"
    },
    "tags": []
   },
   "outputs": [
    {
     "data": {
      "application/javascript": [
       "parent.postMessage({\"jupyterEvent\": \"custom.exercise_interaction\", \"data\": {\"outcomeType\": 1, \"valueTowardsCompletion\": 0.25, \"interactionType\": 1, \"questionType\": 1, \"questionId\": \"3_CountMissingPrices\", \"learnToolsVersion\": \"0.3.4\", \"failureMessage\": \"\", \"exceptionClass\": \"\", \"trace\": \"\"}}, \"*\")"
      ],
      "text/plain": [
       "<IPython.core.display.Javascript object>"
      ]
     },
     "metadata": {},
     "output_type": "display_data"
    },
    {
     "data": {
      "text/markdown": [
       "<span style=\"color:#33cc33\">Correct</span>"
      ],
      "text/plain": [
       "Correct"
      ]
     },
     "metadata": {},
     "output_type": "display_data"
    }
   ],
   "source": [
    "n_missing_prices = reviews['price'].isnull().sum()\n",
    "q3.check()"
   ]
  },
  {
   "cell_type": "code",
   "execution_count": 8,
   "id": "9bf6abd1",
   "metadata": {
    "execution": {
     "iopub.execute_input": "2022-03-26T15:21:19.768646Z",
     "iopub.status.busy": "2022-03-26T15:21:19.768135Z",
     "iopub.status.idle": "2022-03-26T15:21:19.770305Z",
     "shell.execute_reply": "2022-03-26T15:21:19.770739Z",
     "shell.execute_reply.started": "2022-03-26T12:10:28.079005Z"
    },
    "papermill": {
     "duration": 0.023014,
     "end_time": "2022-03-26T15:21:19.770885",
     "exception": false,
     "start_time": "2022-03-26T15:21:19.747871",
     "status": "completed"
    },
    "tags": []
   },
   "outputs": [],
   "source": [
    "#q3.hint()\n",
    "#q3.solution()"
   ]
  },
  {
   "cell_type": "markdown",
   "id": "de6545de",
   "metadata": {
    "papermill": {
     "duration": 0.017694,
     "end_time": "2022-03-26T15:21:19.806864",
     "exception": false,
     "start_time": "2022-03-26T15:21:19.789170",
     "status": "completed"
    },
    "tags": []
   },
   "source": [
    "## 4.\n",
    "What are the most common wine-producing regions? Create a Series counting the number of times each value occurs in the `region_1` field. This field is often missing data, so replace missing values with `Unknown`. Sort in descending order.  Your output should look something like this:\n",
    "\n",
    "```\n",
    "Unknown                    21247\n",
    "Napa Valley                 4480\n",
    "                           ...  \n",
    "Bardolino Superiore            1\n",
    "Primitivo del Tarantino        1\n",
    "Name: region_1, Length: 1230, dtype: int64\n",
    "```"
   ]
  },
  {
   "cell_type": "code",
   "execution_count": 9,
   "id": "7dc3dfa0",
   "metadata": {
    "execution": {
     "iopub.execute_input": "2022-03-26T15:21:19.845675Z",
     "iopub.status.busy": "2022-03-26T15:21:19.845185Z",
     "iopub.status.idle": "2022-03-26T15:21:19.857208Z",
     "shell.execute_reply": "2022-03-26T15:21:19.857593Z",
     "shell.execute_reply.started": "2022-03-26T12:06:53.883337Z"
    },
    "papermill": {
     "duration": 0.032874,
     "end_time": "2022-03-26T15:21:19.857750",
     "exception": false,
     "start_time": "2022-03-26T15:21:19.824876",
     "status": "completed"
    },
    "tags": []
   },
   "outputs": [
    {
     "data": {
      "text/html": [
       "<div>\n",
       "<style scoped>\n",
       "    .dataframe tbody tr th:only-of-type {\n",
       "        vertical-align: middle;\n",
       "    }\n",
       "\n",
       "    .dataframe tbody tr th {\n",
       "        vertical-align: top;\n",
       "    }\n",
       "\n",
       "    .dataframe thead th {\n",
       "        text-align: right;\n",
       "    }\n",
       "</style>\n",
       "<table border=\"1\" class=\"dataframe\">\n",
       "  <thead>\n",
       "    <tr style=\"text-align: right;\">\n",
       "      <th></th>\n",
       "      <th>country</th>\n",
       "      <th>description</th>\n",
       "      <th>designation</th>\n",
       "      <th>points</th>\n",
       "      <th>price</th>\n",
       "      <th>province</th>\n",
       "      <th>region_1</th>\n",
       "      <th>region_2</th>\n",
       "      <th>taster_name</th>\n",
       "      <th>taster_twitter_handle</th>\n",
       "      <th>title</th>\n",
       "      <th>variety</th>\n",
       "      <th>winery</th>\n",
       "    </tr>\n",
       "  </thead>\n",
       "  <tbody>\n",
       "    <tr>\n",
       "      <th>0</th>\n",
       "      <td>Italy</td>\n",
       "      <td>Aromas include tropical fruit, broom, brimston...</td>\n",
       "      <td>Vulkà Bianco</td>\n",
       "      <td>87</td>\n",
       "      <td>NaN</td>\n",
       "      <td>Sicily &amp; Sardinia</td>\n",
       "      <td>Etna</td>\n",
       "      <td>NaN</td>\n",
       "      <td>Kerin O’Keefe</td>\n",
       "      <td>@kerinokeefe</td>\n",
       "      <td>Nicosia 2013 Vulkà Bianco  (Etna)</td>\n",
       "      <td>White Blend</td>\n",
       "      <td>Nicosia</td>\n",
       "    </tr>\n",
       "    <tr>\n",
       "      <th>1</th>\n",
       "      <td>Portugal</td>\n",
       "      <td>This is ripe and fruity, a wine that is smooth...</td>\n",
       "      <td>Avidagos</td>\n",
       "      <td>87</td>\n",
       "      <td>15.0</td>\n",
       "      <td>Douro</td>\n",
       "      <td>NaN</td>\n",
       "      <td>NaN</td>\n",
       "      <td>Roger Voss</td>\n",
       "      <td>@vossroger</td>\n",
       "      <td>Quinta dos Avidagos 2011 Avidagos Red (Douro)</td>\n",
       "      <td>Portuguese Red</td>\n",
       "      <td>Quinta dos Avidagos</td>\n",
       "    </tr>\n",
       "    <tr>\n",
       "      <th>2</th>\n",
       "      <td>US</td>\n",
       "      <td>Tart and snappy, the flavors of lime flesh and...</td>\n",
       "      <td>NaN</td>\n",
       "      <td>87</td>\n",
       "      <td>14.0</td>\n",
       "      <td>Oregon</td>\n",
       "      <td>Willamette Valley</td>\n",
       "      <td>Willamette Valley</td>\n",
       "      <td>Paul Gregutt</td>\n",
       "      <td>@paulgwine</td>\n",
       "      <td>Rainstorm 2013 Pinot Gris (Willamette Valley)</td>\n",
       "      <td>Pinot Gris</td>\n",
       "      <td>Rainstorm</td>\n",
       "    </tr>\n",
       "  </tbody>\n",
       "</table>\n",
       "</div>"
      ],
      "text/plain": [
       "    country                                        description   designation  \\\n",
       "0     Italy  Aromas include tropical fruit, broom, brimston...  Vulkà Bianco   \n",
       "1  Portugal  This is ripe and fruity, a wine that is smooth...      Avidagos   \n",
       "2        US  Tart and snappy, the flavors of lime flesh and...           NaN   \n",
       "\n",
       "   points  price           province           region_1           region_2  \\\n",
       "0      87    NaN  Sicily & Sardinia               Etna                NaN   \n",
       "1      87   15.0              Douro                NaN                NaN   \n",
       "2      87   14.0             Oregon  Willamette Valley  Willamette Valley   \n",
       "\n",
       "     taster_name taster_twitter_handle  \\\n",
       "0  Kerin O’Keefe          @kerinokeefe   \n",
       "1     Roger Voss            @vossroger   \n",
       "2   Paul Gregutt           @paulgwine    \n",
       "\n",
       "                                           title         variety  \\\n",
       "0              Nicosia 2013 Vulkà Bianco  (Etna)     White Blend   \n",
       "1  Quinta dos Avidagos 2011 Avidagos Red (Douro)  Portuguese Red   \n",
       "2  Rainstorm 2013 Pinot Gris (Willamette Valley)      Pinot Gris   \n",
       "\n",
       "                winery  \n",
       "0              Nicosia  \n",
       "1  Quinta dos Avidagos  \n",
       "2            Rainstorm  "
      ]
     },
     "execution_count": 9,
     "metadata": {},
     "output_type": "execute_result"
    }
   ],
   "source": [
    "reviews.head(3)"
   ]
  },
  {
   "cell_type": "code",
   "execution_count": 10,
   "id": "99125376",
   "metadata": {
    "execution": {
     "iopub.execute_input": "2022-03-26T15:21:19.897680Z",
     "iopub.status.busy": "2022-03-26T15:21:19.897184Z",
     "iopub.status.idle": "2022-03-26T15:21:19.930236Z",
     "shell.execute_reply": "2022-03-26T15:21:19.929645Z",
     "shell.execute_reply.started": "2022-03-26T15:20:41.657631Z"
    },
    "papermill": {
     "duration": 0.05409,
     "end_time": "2022-03-26T15:21:19.930346",
     "exception": false,
     "start_time": "2022-03-26T15:21:19.876256",
     "status": "completed"
    },
    "tags": []
   },
   "outputs": [
    {
     "data": {
      "application/javascript": [
       "parent.postMessage({\"jupyterEvent\": \"custom.exercise_interaction\", \"data\": {\"outcomeType\": 1, \"valueTowardsCompletion\": 0.25, \"interactionType\": 1, \"questionType\": 2, \"questionId\": \"4_ReviewsPerRegion\", \"learnToolsVersion\": \"0.3.4\", \"failureMessage\": \"\", \"exceptionClass\": \"\", \"trace\": \"\"}}, \"*\")"
      ],
      "text/plain": [
       "<IPython.core.display.Javascript object>"
      ]
     },
     "metadata": {},
     "output_type": "display_data"
    },
    {
     "data": {
      "text/markdown": [
       "<span style=\"color:#33cc33\">Correct</span>"
      ],
      "text/plain": [
       "Correct"
      ]
     },
     "metadata": {},
     "output_type": "display_data"
    }
   ],
   "source": [
    "reviews_per_region = reviews['region_1'].fillna('Unknown').value_counts().sort_values(ascending=False)\n",
    "reviews_per_region\n",
    "#Check your answer\n",
    "q4.check()"
   ]
  },
  {
   "cell_type": "code",
   "execution_count": 11,
   "id": "6bf79a7a",
   "metadata": {
    "execution": {
     "iopub.execute_input": "2022-03-26T15:21:19.972164Z",
     "iopub.status.busy": "2022-03-26T15:21:19.971476Z",
     "iopub.status.idle": "2022-03-26T15:21:19.974137Z",
     "shell.execute_reply": "2022-03-26T15:21:19.974541Z",
     "shell.execute_reply.started": "2022-03-26T12:30:27.528437Z"
    },
    "papermill": {
     "duration": 0.024795,
     "end_time": "2022-03-26T15:21:19.974676",
     "exception": false,
     "start_time": "2022-03-26T15:21:19.949881",
     "status": "completed"
    },
    "tags": []
   },
   "outputs": [],
   "source": [
    "#q4.hint()\n",
    "# q4.solution()"
   ]
  },
  {
   "cell_type": "markdown",
   "id": "e7c946cf",
   "metadata": {
    "papermill": {
     "duration": 0.018992,
     "end_time": "2022-03-26T15:21:20.013158",
     "exception": false,
     "start_time": "2022-03-26T15:21:19.994166",
     "status": "completed"
    },
    "tags": []
   },
   "source": [
    "# Keep going\n",
    "\n",
    "Move on to **[renaming and combining](https://www.kaggle.com/residentmario/renaming-and-combining)**."
   ]
  },
  {
   "cell_type": "markdown",
   "id": "be801cfc",
   "metadata": {
    "papermill": {
     "duration": 0.02145,
     "end_time": "2022-03-26T15:21:20.054330",
     "exception": false,
     "start_time": "2022-03-26T15:21:20.032880",
     "status": "completed"
    },
    "tags": []
   },
   "source": [
    "---\n",
    "\n",
    "\n",
    "\n",
    "\n",
    "*Have questions or comments? Visit the [course discussion forum](https://www.kaggle.com/learn/pandas/discussion) to chat with other learners.*"
   ]
  }
 ],
 "metadata": {
  "kernelspec": {
   "display_name": "Python 3",
   "language": "python",
   "name": "python3"
  },
  "language_info": {
   "codemirror_mode": {
    "name": "ipython",
    "version": 3
   },
   "file_extension": ".py",
   "mimetype": "text/x-python",
   "name": "python",
   "nbconvert_exporter": "python",
   "pygments_lexer": "ipython3",
   "version": "3.7.12"
  },
  "papermill": {
   "default_parameters": {},
   "duration": 12.651552,
   "end_time": "2022-03-26T15:21:20.682365",
   "environment_variables": {},
   "exception": null,
   "input_path": "__notebook__.ipynb",
   "output_path": "__notebook__.ipynb",
   "parameters": {},
   "start_time": "2022-03-26T15:21:08.030813",
   "version": "2.3.3"
  }
 },
 "nbformat": 4,
 "nbformat_minor": 5
}
