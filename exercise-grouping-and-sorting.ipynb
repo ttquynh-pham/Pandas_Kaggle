{
 "cells": [
  {
   "cell_type": "markdown",
   "id": "0a85187d",
   "metadata": {
    "papermill": {
     "duration": 0.02496,
     "end_time": "2022-03-26T07:30:25.738060",
     "exception": false,
     "start_time": "2022-03-26T07:30:25.713100",
     "status": "completed"
    },
    "tags": []
   },
   "source": [
    "**This notebook is an exercise in the [Pandas](https://www.kaggle.com/learn/pandas) course.  You can reference the tutorial at [this link](https://www.kaggle.com/residentmario/grouping-and-sorting).**\n",
    "\n",
    "---\n"
   ]
  },
  {
   "cell_type": "markdown",
   "id": "f22526c7",
   "metadata": {
    "papermill": {
     "duration": 0.024583,
     "end_time": "2022-03-26T07:30:25.789306",
     "exception": false,
     "start_time": "2022-03-26T07:30:25.764723",
     "status": "completed"
    },
    "tags": []
   },
   "source": [
    "# Introduction\n",
    "\n",
    "In these exercises we'll apply groupwise analysis to our dataset.\n",
    "\n",
    "Run the code cell below to load the data before running the exercises."
   ]
  },
  {
   "cell_type": "code",
   "execution_count": 1,
   "id": "88e76b4f",
   "metadata": {
    "execution": {
     "iopub.execute_input": "2022-03-26T07:30:25.842563Z",
     "iopub.status.busy": "2022-03-26T07:30:25.840718Z",
     "iopub.status.idle": "2022-03-26T07:30:28.790327Z",
     "shell.execute_reply": "2022-03-26T07:30:28.789051Z",
     "shell.execute_reply.started": "2022-03-26T07:04:58.998560Z"
    },
    "papermill": {
     "duration": 2.97755,
     "end_time": "2022-03-26T07:30:28.790525",
     "exception": false,
     "start_time": "2022-03-26T07:30:25.812975",
     "status": "completed"
    },
    "tags": []
   },
   "outputs": [
    {
     "name": "stdout",
     "output_type": "stream",
     "text": [
      "Setup complete.\n"
     ]
    }
   ],
   "source": [
    "import pandas as pd\n",
    "\n",
    "reviews = pd.read_csv(\"../input/wine-reviews/winemag-data-130k-v2.csv\", index_col=0)\n",
    "#pd.set_option(\"display.max_rows\", 5)\n",
    "\n",
    "from learntools.core import binder; binder.bind(globals())\n",
    "from learntools.pandas.grouping_and_sorting import *\n",
    "print(\"Setup complete.\")"
   ]
  },
  {
   "cell_type": "markdown",
   "id": "cf6a0be9",
   "metadata": {
    "papermill": {
     "duration": 0.023603,
     "end_time": "2022-03-26T07:30:28.838897",
     "exception": false,
     "start_time": "2022-03-26T07:30:28.815294",
     "status": "completed"
    },
    "tags": []
   },
   "source": [
    "# Exercises"
   ]
  },
  {
   "cell_type": "markdown",
   "id": "bfeefeb0",
   "metadata": {
    "papermill": {
     "duration": 0.025509,
     "end_time": "2022-03-26T07:30:28.889252",
     "exception": false,
     "start_time": "2022-03-26T07:30:28.863743",
     "status": "completed"
    },
    "tags": []
   },
   "source": [
    "## 1.\n",
    "Who are the most common wine reviewers in the dataset? Create a `Series` whose index is the `taster_twitter_handle` category from the dataset, and whose values count how many reviews each person wrote."
   ]
  },
  {
   "cell_type": "code",
   "execution_count": 2,
   "id": "1a548f20",
   "metadata": {
    "execution": {
     "iopub.execute_input": "2022-03-26T07:30:28.945044Z",
     "iopub.status.busy": "2022-03-26T07:30:28.944308Z",
     "iopub.status.idle": "2022-03-26T07:30:28.966280Z",
     "shell.execute_reply": "2022-03-26T07:30:28.965635Z",
     "shell.execute_reply.started": "2022-03-26T07:05:05.828488Z"
    },
    "papermill": {
     "duration": 0.0531,
     "end_time": "2022-03-26T07:30:28.966422",
     "exception": false,
     "start_time": "2022-03-26T07:30:28.913322",
     "status": "completed"
    },
    "tags": []
   },
   "outputs": [
    {
     "data": {
      "text/html": [
       "<div>\n",
       "<style scoped>\n",
       "    .dataframe tbody tr th:only-of-type {\n",
       "        vertical-align: middle;\n",
       "    }\n",
       "\n",
       "    .dataframe tbody tr th {\n",
       "        vertical-align: top;\n",
       "    }\n",
       "\n",
       "    .dataframe thead th {\n",
       "        text-align: right;\n",
       "    }\n",
       "</style>\n",
       "<table border=\"1\" class=\"dataframe\">\n",
       "  <thead>\n",
       "    <tr style=\"text-align: right;\">\n",
       "      <th></th>\n",
       "      <th>country</th>\n",
       "      <th>description</th>\n",
       "      <th>designation</th>\n",
       "      <th>points</th>\n",
       "      <th>price</th>\n",
       "      <th>province</th>\n",
       "      <th>region_1</th>\n",
       "      <th>region_2</th>\n",
       "      <th>taster_name</th>\n",
       "      <th>taster_twitter_handle</th>\n",
       "      <th>title</th>\n",
       "      <th>variety</th>\n",
       "      <th>winery</th>\n",
       "    </tr>\n",
       "  </thead>\n",
       "  <tbody>\n",
       "    <tr>\n",
       "      <th>0</th>\n",
       "      <td>Italy</td>\n",
       "      <td>Aromas include tropical fruit, broom, brimston...</td>\n",
       "      <td>Vulkà Bianco</td>\n",
       "      <td>87</td>\n",
       "      <td>NaN</td>\n",
       "      <td>Sicily &amp; Sardinia</td>\n",
       "      <td>Etna</td>\n",
       "      <td>NaN</td>\n",
       "      <td>Kerin O’Keefe</td>\n",
       "      <td>@kerinokeefe</td>\n",
       "      <td>Nicosia 2013 Vulkà Bianco  (Etna)</td>\n",
       "      <td>White Blend</td>\n",
       "      <td>Nicosia</td>\n",
       "    </tr>\n",
       "    <tr>\n",
       "      <th>1</th>\n",
       "      <td>Portugal</td>\n",
       "      <td>This is ripe and fruity, a wine that is smooth...</td>\n",
       "      <td>Avidagos</td>\n",
       "      <td>87</td>\n",
       "      <td>15.0</td>\n",
       "      <td>Douro</td>\n",
       "      <td>NaN</td>\n",
       "      <td>NaN</td>\n",
       "      <td>Roger Voss</td>\n",
       "      <td>@vossroger</td>\n",
       "      <td>Quinta dos Avidagos 2011 Avidagos Red (Douro)</td>\n",
       "      <td>Portuguese Red</td>\n",
       "      <td>Quinta dos Avidagos</td>\n",
       "    </tr>\n",
       "    <tr>\n",
       "      <th>2</th>\n",
       "      <td>US</td>\n",
       "      <td>Tart and snappy, the flavors of lime flesh and...</td>\n",
       "      <td>NaN</td>\n",
       "      <td>87</td>\n",
       "      <td>14.0</td>\n",
       "      <td>Oregon</td>\n",
       "      <td>Willamette Valley</td>\n",
       "      <td>Willamette Valley</td>\n",
       "      <td>Paul Gregutt</td>\n",
       "      <td>@paulgwine</td>\n",
       "      <td>Rainstorm 2013 Pinot Gris (Willamette Valley)</td>\n",
       "      <td>Pinot Gris</td>\n",
       "      <td>Rainstorm</td>\n",
       "    </tr>\n",
       "  </tbody>\n",
       "</table>\n",
       "</div>"
      ],
      "text/plain": [
       "    country                                        description   designation  \\\n",
       "0     Italy  Aromas include tropical fruit, broom, brimston...  Vulkà Bianco   \n",
       "1  Portugal  This is ripe and fruity, a wine that is smooth...      Avidagos   \n",
       "2        US  Tart and snappy, the flavors of lime flesh and...           NaN   \n",
       "\n",
       "   points  price           province           region_1           region_2  \\\n",
       "0      87    NaN  Sicily & Sardinia               Etna                NaN   \n",
       "1      87   15.0              Douro                NaN                NaN   \n",
       "2      87   14.0             Oregon  Willamette Valley  Willamette Valley   \n",
       "\n",
       "     taster_name taster_twitter_handle  \\\n",
       "0  Kerin O’Keefe          @kerinokeefe   \n",
       "1     Roger Voss            @vossroger   \n",
       "2   Paul Gregutt           @paulgwine    \n",
       "\n",
       "                                           title         variety  \\\n",
       "0              Nicosia 2013 Vulkà Bianco  (Etna)     White Blend   \n",
       "1  Quinta dos Avidagos 2011 Avidagos Red (Douro)  Portuguese Red   \n",
       "2  Rainstorm 2013 Pinot Gris (Willamette Valley)      Pinot Gris   \n",
       "\n",
       "                winery  \n",
       "0              Nicosia  \n",
       "1  Quinta dos Avidagos  \n",
       "2            Rainstorm  "
      ]
     },
     "execution_count": 2,
     "metadata": {},
     "output_type": "execute_result"
    }
   ],
   "source": [
    "reviews.head(3)"
   ]
  },
  {
   "cell_type": "code",
   "execution_count": 3,
   "id": "fedbdd09",
   "metadata": {
    "execution": {
     "iopub.execute_input": "2022-03-26T07:30:29.021094Z",
     "iopub.status.busy": "2022-03-26T07:30:29.020447Z",
     "iopub.status.idle": "2022-03-26T07:30:29.058747Z",
     "shell.execute_reply": "2022-03-26T07:30:29.058165Z",
     "shell.execute_reply.started": "2022-03-26T04:45:42.369095Z"
    },
    "papermill": {
     "duration": 0.067723,
     "end_time": "2022-03-26T07:30:29.058888",
     "exception": false,
     "start_time": "2022-03-26T07:30:28.991165",
     "status": "completed"
    },
    "tags": []
   },
   "outputs": [
    {
     "data": {
      "application/javascript": [
       "parent.postMessage({\"jupyterEvent\": \"custom.exercise_interaction\", \"data\": {\"outcomeType\": 1, \"valueTowardsCompletion\": 0.16666666666666666, \"interactionType\": 1, \"questionType\": 1, \"questionId\": \"1_ReviewsWritten\", \"learnToolsVersion\": \"0.3.4\", \"failureMessage\": \"\", \"exceptionClass\": \"\", \"trace\": \"\"}}, \"*\")"
      ],
      "text/plain": [
       "<IPython.core.display.Javascript object>"
      ]
     },
     "metadata": {},
     "output_type": "display_data"
    },
    {
     "data": {
      "text/markdown": [
       "<span style=\"color:#33cc33\">Correct:</span> \n",
       "\n",
       "\n",
       "```python\n",
       "reviews_written = reviews.groupby('taster_twitter_handle').size()\n",
       "```\n",
       "or\n",
       "```python\n",
       "reviews_written = reviews.groupby('taster_twitter_handle').taster_twitter_handle.count()\n",
       "```\n"
      ],
      "text/plain": [
       "Correct: \n",
       "\n",
       "\n",
       "```python\n",
       "reviews_written = reviews.groupby('taster_twitter_handle').size()\n",
       "```\n",
       "or\n",
       "```python\n",
       "reviews_written = reviews.groupby('taster_twitter_handle').taster_twitter_handle.count()\n",
       "```"
      ]
     },
     "metadata": {},
     "output_type": "display_data"
    }
   ],
   "source": [
    "# Your code here\n",
    "reviews_written = reviews.groupby('taster_twitter_handle')['taster_twitter_handle'].count()\n",
    "\n",
    "# Check your answer\n",
    "q1.check()"
   ]
  },
  {
   "cell_type": "code",
   "execution_count": 4,
   "id": "d5983a5a",
   "metadata": {
    "execution": {
     "iopub.execute_input": "2022-03-26T07:30:29.117787Z",
     "iopub.status.busy": "2022-03-26T07:30:29.117081Z",
     "iopub.status.idle": "2022-03-26T07:30:29.119757Z",
     "shell.execute_reply": "2022-03-26T07:30:29.120303Z"
    },
    "papermill": {
     "duration": 0.034771,
     "end_time": "2022-03-26T07:30:29.120478",
     "exception": false,
     "start_time": "2022-03-26T07:30:29.085707",
     "status": "completed"
    },
    "tags": []
   },
   "outputs": [],
   "source": [
    "#q1.hint()\n",
    "#q1.solution()"
   ]
  },
  {
   "cell_type": "markdown",
   "id": "a5c0c8b7",
   "metadata": {
    "papermill": {
     "duration": 0.028288,
     "end_time": "2022-03-26T07:30:29.175436",
     "exception": false,
     "start_time": "2022-03-26T07:30:29.147148",
     "status": "completed"
    },
    "tags": []
   },
   "source": [
    "## 2.\n",
    "What is the best wine I can buy for a given amount of money? Create a `Series` whose index is wine prices and whose values is the maximum number of points a wine costing that much was given in a review. Sort the values by price, ascending (so that `4.0` dollars is at the top and `3300.0` dollars is at the bottom)."
   ]
  },
  {
   "cell_type": "code",
   "execution_count": 5,
   "id": "5c29dda6",
   "metadata": {
    "execution": {
     "iopub.execute_input": "2022-03-26T07:30:29.237195Z",
     "iopub.status.busy": "2022-03-26T07:30:29.234469Z",
     "iopub.status.idle": "2022-03-26T07:30:29.247714Z",
     "shell.execute_reply": "2022-03-26T07:30:29.246975Z",
     "shell.execute_reply.started": "2022-03-26T04:57:23.520273Z"
    },
    "papermill": {
     "duration": 0.0441,
     "end_time": "2022-03-26T07:30:29.247866",
     "exception": false,
     "start_time": "2022-03-26T07:30:29.203766",
     "status": "completed"
    },
    "tags": []
   },
   "outputs": [
    {
     "data": {
      "application/javascript": [
       "parent.postMessage({\"jupyterEvent\": \"custom.exercise_interaction\", \"data\": {\"outcomeType\": 1, \"valueTowardsCompletion\": 0.16666666666666666, \"interactionType\": 1, \"questionType\": 1, \"questionId\": \"2_BestRatingPerPrice\", \"learnToolsVersion\": \"0.3.4\", \"failureMessage\": \"\", \"exceptionClass\": \"\", \"trace\": \"\"}}, \"*\")"
      ],
      "text/plain": [
       "<IPython.core.display.Javascript object>"
      ]
     },
     "metadata": {},
     "output_type": "display_data"
    },
    {
     "data": {
      "text/markdown": [
       "<span style=\"color:#33cc33\">Correct</span>"
      ],
      "text/plain": [
       "Correct"
      ]
     },
     "metadata": {},
     "output_type": "display_data"
    }
   ],
   "source": [
    "best_rating_per_price = reviews.groupby('price')['points'].agg(max).sort_index()\n",
    "best_rating_per_price\n",
    "\n",
    "# Check your answer\n",
    "q2.check()"
   ]
  },
  {
   "cell_type": "code",
   "execution_count": 6,
   "id": "060a0e69",
   "metadata": {
    "execution": {
     "iopub.execute_input": "2022-03-26T07:30:29.311341Z",
     "iopub.status.busy": "2022-03-26T07:30:29.310541Z",
     "iopub.status.idle": "2022-03-26T07:30:29.312990Z",
     "shell.execute_reply": "2022-03-26T07:30:29.313653Z",
     "shell.execute_reply.started": "2022-03-26T04:55:51.442003Z"
    },
    "papermill": {
     "duration": 0.036699,
     "end_time": "2022-03-26T07:30:29.313828",
     "exception": false,
     "start_time": "2022-03-26T07:30:29.277129",
     "status": "completed"
    },
    "tags": []
   },
   "outputs": [],
   "source": [
    "# q2.hint()\n",
    "#q2.solution()"
   ]
  },
  {
   "cell_type": "markdown",
   "id": "bba17c02",
   "metadata": {
    "papermill": {
     "duration": 0.026882,
     "end_time": "2022-03-26T07:30:29.368732",
     "exception": false,
     "start_time": "2022-03-26T07:30:29.341850",
     "status": "completed"
    },
    "tags": []
   },
   "source": [
    "## 3.\n",
    "What are the minimum and maximum prices for each `variety` of wine? Create a `DataFrame` whose index is the `variety` category from the dataset and whose values are the `min` and `max` values thereof."
   ]
  },
  {
   "cell_type": "code",
   "execution_count": 7,
   "id": "12cbf7ee",
   "metadata": {
    "execution": {
     "iopub.execute_input": "2022-03-26T07:30:29.430493Z",
     "iopub.status.busy": "2022-03-26T07:30:29.429710Z",
     "iopub.status.idle": "2022-03-26T07:30:29.457993Z",
     "shell.execute_reply": "2022-03-26T07:30:29.458569Z",
     "shell.execute_reply.started": "2022-03-26T07:15:13.828729Z"
    },
    "papermill": {
     "duration": 0.060485,
     "end_time": "2022-03-26T07:30:29.458739",
     "exception": false,
     "start_time": "2022-03-26T07:30:29.398254",
     "status": "completed"
    },
    "tags": []
   },
   "outputs": [
    {
     "data": {
      "application/javascript": [
       "parent.postMessage({\"jupyterEvent\": \"custom.exercise_interaction\", \"data\": {\"outcomeType\": 1, \"valueTowardsCompletion\": 0.16666666666666666, \"interactionType\": 1, \"questionType\": 1, \"questionId\": \"3_PriceExtremes\", \"learnToolsVersion\": \"0.3.4\", \"failureMessage\": \"\", \"exceptionClass\": \"\", \"trace\": \"\"}}, \"*\")"
      ],
      "text/plain": [
       "<IPython.core.display.Javascript object>"
      ]
     },
     "metadata": {},
     "output_type": "display_data"
    },
    {
     "data": {
      "text/markdown": [
       "<span style=\"color:#33cc33\">Correct</span>"
      ],
      "text/plain": [
       "Correct"
      ]
     },
     "metadata": {},
     "output_type": "display_data"
    }
   ],
   "source": [
    "price_extremes = reviews.groupby('variety')['price'].agg([min, max])\n",
    "price_extremes\n",
    "# Check your answer\n",
    "q3.check()"
   ]
  },
  {
   "cell_type": "code",
   "execution_count": 8,
   "id": "ef55924a",
   "metadata": {
    "execution": {
     "iopub.execute_input": "2022-03-26T07:30:29.520590Z",
     "iopub.status.busy": "2022-03-26T07:30:29.519862Z",
     "iopub.status.idle": "2022-03-26T07:30:29.522403Z",
     "shell.execute_reply": "2022-03-26T07:30:29.522944Z"
    },
    "papermill": {
     "duration": 0.035883,
     "end_time": "2022-03-26T07:30:29.523122",
     "exception": false,
     "start_time": "2022-03-26T07:30:29.487239",
     "status": "completed"
    },
    "tags": []
   },
   "outputs": [],
   "source": [
    "#q3.hint()\n",
    "#q3.solution()"
   ]
  },
  {
   "cell_type": "markdown",
   "id": "b1370a11",
   "metadata": {
    "papermill": {
     "duration": 0.030537,
     "end_time": "2022-03-26T07:30:29.583260",
     "exception": false,
     "start_time": "2022-03-26T07:30:29.552723",
     "status": "completed"
    },
    "tags": []
   },
   "source": [
    "## 4.\n",
    "What are the most expensive wine varieties? Create a variable `sorted_varieties` containing a copy of the dataframe from the previous question where varieties are sorted in descending order based on minimum price, then on maximum price (to break ties)."
   ]
  },
  {
   "cell_type": "code",
   "execution_count": 9,
   "id": "b12dce15",
   "metadata": {
    "execution": {
     "iopub.execute_input": "2022-03-26T07:30:29.649833Z",
     "iopub.status.busy": "2022-03-26T07:30:29.649086Z",
     "iopub.status.idle": "2022-03-26T07:30:29.656129Z",
     "shell.execute_reply": "2022-03-26T07:30:29.655622Z",
     "shell.execute_reply.started": "2022-03-26T05:10:08.762684Z"
    },
    "papermill": {
     "duration": 0.043432,
     "end_time": "2022-03-26T07:30:29.656289",
     "exception": false,
     "start_time": "2022-03-26T07:30:29.612857",
     "status": "completed"
    },
    "tags": []
   },
   "outputs": [
    {
     "data": {
      "application/javascript": [
       "parent.postMessage({\"jupyterEvent\": \"custom.exercise_interaction\", \"data\": {\"outcomeType\": 1, \"valueTowardsCompletion\": 0.16666666666666666, \"interactionType\": 1, \"questionType\": 1, \"questionId\": \"4_SortedVarieties\", \"learnToolsVersion\": \"0.3.4\", \"failureMessage\": \"\", \"exceptionClass\": \"\", \"trace\": \"\"}}, \"*\")"
      ],
      "text/plain": [
       "<IPython.core.display.Javascript object>"
      ]
     },
     "metadata": {},
     "output_type": "display_data"
    },
    {
     "data": {
      "text/markdown": [
       "<span style=\"color:#33cc33\">Correct</span>"
      ],
      "text/plain": [
       "Correct"
      ]
     },
     "metadata": {},
     "output_type": "display_data"
    }
   ],
   "source": [
    "sorted_varieties = price_extremes.sort_values(by=['min', 'max'], ascending=False)\n",
    "sorted_varieties\n",
    "# Check your answer\n",
    "q4.check()"
   ]
  },
  {
   "cell_type": "code",
   "execution_count": 10,
   "id": "f61f11fe",
   "metadata": {
    "execution": {
     "iopub.execute_input": "2022-03-26T07:30:29.722937Z",
     "iopub.status.busy": "2022-03-26T07:30:29.722256Z",
     "iopub.status.idle": "2022-03-26T07:30:29.726306Z",
     "shell.execute_reply": "2022-03-26T07:30:29.725717Z",
     "shell.execute_reply.started": "2022-03-26T05:10:12.277569Z"
    },
    "papermill": {
     "duration": 0.037901,
     "end_time": "2022-03-26T07:30:29.726456",
     "exception": false,
     "start_time": "2022-03-26T07:30:29.688555",
     "status": "completed"
    },
    "tags": []
   },
   "outputs": [],
   "source": [
    "# q4.hint()\n",
    "# q4.solution()"
   ]
  },
  {
   "cell_type": "markdown",
   "id": "5b46e5b1",
   "metadata": {
    "papermill": {
     "duration": 0.031047,
     "end_time": "2022-03-26T07:30:29.788737",
     "exception": false,
     "start_time": "2022-03-26T07:30:29.757690",
     "status": "completed"
    },
    "tags": []
   },
   "source": [
    "## 5.\n",
    "Create a `Series` whose index is reviewers and whose values is the average review score given out by that reviewer. Hint: you will need the `taster_name` and `points` columns."
   ]
  },
  {
   "cell_type": "code",
   "execution_count": 11,
   "id": "59386f19",
   "metadata": {
    "execution": {
     "iopub.execute_input": "2022-03-26T07:30:29.859300Z",
     "iopub.status.busy": "2022-03-26T07:30:29.858557Z",
     "iopub.status.idle": "2022-03-26T07:30:29.925219Z",
     "shell.execute_reply": "2022-03-26T07:30:29.924564Z",
     "shell.execute_reply.started": "2022-03-26T07:16:15.569004Z"
    },
    "papermill": {
     "duration": 0.105634,
     "end_time": "2022-03-26T07:30:29.925379",
     "exception": false,
     "start_time": "2022-03-26T07:30:29.819745",
     "status": "completed"
    },
    "tags": []
   },
   "outputs": [
    {
     "data": {
      "application/javascript": [
       "parent.postMessage({\"jupyterEvent\": \"custom.exercise_interaction\", \"data\": {\"outcomeType\": 1, \"valueTowardsCompletion\": 0.16666666666666666, \"interactionType\": 1, \"questionType\": 1, \"questionId\": \"5_ReviewerMeanRatings\", \"learnToolsVersion\": \"0.3.4\", \"failureMessage\": \"\", \"exceptionClass\": \"\", \"trace\": \"\"}}, \"*\")"
      ],
      "text/plain": [
       "<IPython.core.display.Javascript object>"
      ]
     },
     "metadata": {},
     "output_type": "display_data"
    },
    {
     "data": {
      "text/markdown": [
       "<span style=\"color:#33cc33\">Correct</span>"
      ],
      "text/plain": [
       "Correct"
      ]
     },
     "metadata": {},
     "output_type": "display_data"
    }
   ],
   "source": [
    "reviewer_mean_ratings = reviews.groupby('taster_name').apply(lambda df: df['points'].values.sum()/df['points'].count())\n",
    "\n",
    "# Check your answer\n",
    "q5.check()"
   ]
  },
  {
   "cell_type": "code",
   "execution_count": 12,
   "id": "77ff5664",
   "metadata": {
    "execution": {
     "iopub.execute_input": "2022-03-26T07:30:29.993436Z",
     "iopub.status.busy": "2022-03-26T07:30:29.992769Z",
     "iopub.status.idle": "2022-03-26T07:30:29.995151Z",
     "shell.execute_reply": "2022-03-26T07:30:29.995781Z"
    },
    "papermill": {
     "duration": 0.039214,
     "end_time": "2022-03-26T07:30:29.995964",
     "exception": false,
     "start_time": "2022-03-26T07:30:29.956750",
     "status": "completed"
    },
    "tags": []
   },
   "outputs": [],
   "source": [
    "#q5.hint()\n",
    "#q5.solution()"
   ]
  },
  {
   "cell_type": "code",
   "execution_count": 13,
   "id": "1274b535",
   "metadata": {
    "execution": {
     "iopub.execute_input": "2022-03-26T07:30:30.064321Z",
     "iopub.status.busy": "2022-03-26T07:30:30.063669Z",
     "iopub.status.idle": "2022-03-26T07:30:30.071087Z",
     "shell.execute_reply": "2022-03-26T07:30:30.070462Z",
     "shell.execute_reply.started": "2022-03-26T07:17:28.107765Z"
    },
    "papermill": {
     "duration": 0.042161,
     "end_time": "2022-03-26T07:30:30.071253",
     "exception": false,
     "start_time": "2022-03-26T07:30:30.029092",
     "status": "completed"
    },
    "tags": []
   },
   "outputs": [
    {
     "data": {
      "text/plain": [
       "taster_name\n",
       "Alexander Peartree    85.855422\n",
       "Anna Lee C. Iijima    88.415629\n",
       "Anne Krebiehl MW      90.562551\n",
       "Carrie Dykes          86.395683\n",
       "Christina Pickard     87.833333\n",
       "Fiona Adams           86.888889\n",
       "Jeff Jenssen          88.319756\n",
       "Jim Gordon            88.626287\n",
       "Joe Czerwinski        88.536235\n",
       "Kerin O’Keefe         88.867947\n",
       "Lauren Buzzeo         87.739510\n",
       "Matt Kettmann         90.008686\n",
       "Michael Schachner     86.907493\n",
       "Mike DeSimone         89.101167\n",
       "Paul Gregutt          89.082564\n",
       "Roger Voss            88.708003\n",
       "Sean P. Sullivan      88.755739\n",
       "Susan Kostrzewa       86.609217\n",
       "Virginie Boone        89.213379\n",
       "dtype: float64"
      ]
     },
     "execution_count": 13,
     "metadata": {},
     "output_type": "execute_result"
    }
   ],
   "source": [
    "reviewer_mean_ratings"
   ]
  },
  {
   "cell_type": "markdown",
   "id": "f9d63f7d",
   "metadata": {
    "papermill": {
     "duration": 0.03222,
     "end_time": "2022-03-26T07:30:30.136535",
     "exception": false,
     "start_time": "2022-03-26T07:30:30.104315",
     "status": "completed"
    },
    "tags": []
   },
   "source": [
    "Are there significant differences in the average scores assigned by the various reviewers? Run the cell below to use the `describe()` method to see a summary of the range of values."
   ]
  },
  {
   "cell_type": "code",
   "execution_count": 14,
   "id": "16842e26",
   "metadata": {
    "execution": {
     "iopub.execute_input": "2022-03-26T07:30:30.205446Z",
     "iopub.status.busy": "2022-03-26T07:30:30.204747Z",
     "iopub.status.idle": "2022-03-26T07:30:30.215261Z",
     "shell.execute_reply": "2022-03-26T07:30:30.215809Z",
     "shell.execute_reply.started": "2022-03-26T07:17:10.850083Z"
    },
    "papermill": {
     "duration": 0.046079,
     "end_time": "2022-03-26T07:30:30.215981",
     "exception": false,
     "start_time": "2022-03-26T07:30:30.169902",
     "status": "completed"
    },
    "tags": []
   },
   "outputs": [
    {
     "data": {
      "text/plain": [
       "count    19.000000\n",
       "mean     88.233026\n",
       "std       1.243610\n",
       "min      85.855422\n",
       "25%      87.323501\n",
       "50%      88.536235\n",
       "75%      88.975256\n",
       "max      90.562551\n",
       "dtype: float64"
      ]
     },
     "execution_count": 14,
     "metadata": {},
     "output_type": "execute_result"
    }
   ],
   "source": [
    "reviewer_mean_ratings.describe()"
   ]
  },
  {
   "cell_type": "markdown",
   "id": "41d57b37",
   "metadata": {
    "papermill": {
     "duration": 0.032169,
     "end_time": "2022-03-26T07:30:30.280599",
     "exception": false,
     "start_time": "2022-03-26T07:30:30.248430",
     "status": "completed"
    },
    "tags": []
   },
   "source": [
    "Answer: There aren't significant differences in the average scores assigned by the various reviewers"
   ]
  },
  {
   "cell_type": "markdown",
   "id": "3704b05e",
   "metadata": {
    "papermill": {
     "duration": 0.03238,
     "end_time": "2022-03-26T07:30:30.344962",
     "exception": false,
     "start_time": "2022-03-26T07:30:30.312582",
     "status": "completed"
    },
    "tags": []
   },
   "source": [
    "## 6.\n",
    "What combination of countries and varieties are most common? Create a `Series` whose index is a `MultiIndex`of `{country, variety}` pairs. For example, a pinot noir produced in the US should map to `{\"US\", \"Pinot Noir\"}`. Sort the values in the `Series` in descending order based on wine count."
   ]
  },
  {
   "cell_type": "code",
   "execution_count": 15,
   "id": "4c39d91d",
   "metadata": {
    "execution": {
     "iopub.execute_input": "2022-03-26T07:30:30.414688Z",
     "iopub.status.busy": "2022-03-26T07:30:30.413669Z",
     "iopub.status.idle": "2022-03-26T07:30:30.475738Z",
     "shell.execute_reply": "2022-03-26T07:30:30.476366Z",
     "shell.execute_reply.started": "2022-03-26T07:29:37.137941Z"
    },
    "papermill": {
     "duration": 0.098078,
     "end_time": "2022-03-26T07:30:30.476546",
     "exception": false,
     "start_time": "2022-03-26T07:30:30.378468",
     "status": "completed"
    },
    "tags": []
   },
   "outputs": [
    {
     "data": {
      "application/javascript": [
       "parent.postMessage({\"jupyterEvent\": \"custom.exercise_interaction\", \"data\": {\"outcomeType\": 1, \"valueTowardsCompletion\": 0.16666666666666666, \"interactionType\": 1, \"questionType\": 1, \"questionId\": \"6_GroupbyCountryVariety\", \"learnToolsVersion\": \"0.3.4\", \"failureMessage\": \"\", \"exceptionClass\": \"\", \"trace\": \"\"}}, \"*\")"
      ],
      "text/plain": [
       "<IPython.core.display.Javascript object>"
      ]
     },
     "metadata": {},
     "output_type": "display_data"
    },
    {
     "data": {
      "text/markdown": [
       "<span style=\"color:#33cc33\">Correct</span>"
      ],
      "text/plain": [
       "Correct"
      ]
     },
     "metadata": {},
     "output_type": "display_data"
    }
   ],
   "source": [
    "country_variety_counts = reviews.groupby(['country', 'variety'])['title'].count().sort_values(ascending=False)\n",
    "country_variety_counts\n",
    "# Check your answer\n",
    "q6.check()"
   ]
  },
  {
   "cell_type": "code",
   "execution_count": 16,
   "id": "d6c30061",
   "metadata": {
    "execution": {
     "iopub.execute_input": "2022-03-26T07:30:30.546855Z",
     "iopub.status.busy": "2022-03-26T07:30:30.545892Z",
     "iopub.status.idle": "2022-03-26T07:30:30.549070Z",
     "shell.execute_reply": "2022-03-26T07:30:30.549548Z"
    },
    "papermill": {
     "duration": 0.040035,
     "end_time": "2022-03-26T07:30:30.549729",
     "exception": false,
     "start_time": "2022-03-26T07:30:30.509694",
     "status": "completed"
    },
    "tags": []
   },
   "outputs": [],
   "source": [
    "#q6.hint()\n",
    "#q6.solution()"
   ]
  },
  {
   "cell_type": "markdown",
   "id": "63049047",
   "metadata": {
    "papermill": {
     "duration": 0.032949,
     "end_time": "2022-03-26T07:30:30.615913",
     "exception": false,
     "start_time": "2022-03-26T07:30:30.582964",
     "status": "completed"
    },
    "tags": []
   },
   "source": [
    "# Keep going\n",
    "\n",
    "Move on to the [**data types and missing data**](https://www.kaggle.com/residentmario/data-types-and-missing-values)."
   ]
  },
  {
   "cell_type": "markdown",
   "id": "a502082f",
   "metadata": {
    "papermill": {
     "duration": 0.033032,
     "end_time": "2022-03-26T07:30:30.682129",
     "exception": false,
     "start_time": "2022-03-26T07:30:30.649097",
     "status": "completed"
    },
    "tags": []
   },
   "source": [
    "---\n",
    "\n",
    "\n",
    "\n",
    "\n",
    "*Have questions or comments? Visit the [course discussion forum](https://www.kaggle.com/learn/pandas/discussion) to chat with other learners.*"
   ]
  }
 ],
 "metadata": {
  "kernelspec": {
   "display_name": "Python 3",
   "language": "python",
   "name": "python3"
  },
  "language_info": {
   "codemirror_mode": {
    "name": "ipython",
    "version": 3
   },
   "file_extension": ".py",
   "mimetype": "text/x-python",
   "name": "python",
   "nbconvert_exporter": "python",
   "pygments_lexer": "ipython3",
   "version": "3.7.12"
  },
  "papermill": {
   "default_parameters": {},
   "duration": 16.798758,
   "end_time": "2022-03-26T07:30:31.428256",
   "environment_variables": {},
   "exception": null,
   "input_path": "__notebook__.ipynb",
   "output_path": "__notebook__.ipynb",
   "parameters": {},
   "start_time": "2022-03-26T07:30:14.629498",
   "version": "2.3.3"
  }
 },
 "nbformat": 4,
 "nbformat_minor": 5
}
