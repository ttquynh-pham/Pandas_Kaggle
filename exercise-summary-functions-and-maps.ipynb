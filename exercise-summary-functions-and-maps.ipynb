{
 "cells": [
  {
   "cell_type": "markdown",
   "id": "5d66a4be",
   "metadata": {
    "papermill": {
     "duration": 0.019317,
     "end_time": "2022-03-25T03:15:55.194616",
     "exception": false,
     "start_time": "2022-03-25T03:15:55.175299",
     "status": "completed"
    },
    "tags": []
   },
   "source": [
    "**This notebook is an exercise in the [Pandas](https://www.kaggle.com/learn/pandas) course.  You can reference the tutorial at [this link](https://www.kaggle.com/residentmario/summary-functions-and-maps).**\n",
    "\n",
    "---\n"
   ]
  },
  {
   "cell_type": "markdown",
   "id": "793d71bf",
   "metadata": {
    "papermill": {
     "duration": 0.018009,
     "end_time": "2022-03-25T03:15:55.231170",
     "exception": false,
     "start_time": "2022-03-25T03:15:55.213161",
     "status": "completed"
    },
    "tags": []
   },
   "source": [
    "# Introduction\n",
    "\n",
    "Now you are ready to get a deeper understanding of your data.\n",
    "\n",
    "Run the following cell to load your data and some utility functions (including code to check your answers)."
   ]
  },
  {
   "cell_type": "code",
   "execution_count": 1,
   "id": "46c4ead1",
   "metadata": {
    "execution": {
     "iopub.execute_input": "2022-03-25T03:15:55.271864Z",
     "iopub.status.busy": "2022-03-25T03:15:55.270962Z",
     "iopub.status.idle": "2022-03-25T03:16:02.823784Z",
     "shell.execute_reply": "2022-03-25T03:16:02.824347Z",
     "shell.execute_reply.started": "2022-03-25T03:11:35.936502Z"
    },
    "papermill": {
     "duration": 7.574769,
     "end_time": "2022-03-25T03:16:02.824705",
     "exception": false,
     "start_time": "2022-03-25T03:15:55.249936",
     "status": "completed"
    },
    "tags": []
   },
   "outputs": [
    {
     "name": "stdout",
     "output_type": "stream",
     "text": [
      "Setup complete.\n"
     ]
    },
    {
     "data": {
      "text/html": [
       "<div>\n",
       "<style scoped>\n",
       "    .dataframe tbody tr th:only-of-type {\n",
       "        vertical-align: middle;\n",
       "    }\n",
       "\n",
       "    .dataframe tbody tr th {\n",
       "        vertical-align: top;\n",
       "    }\n",
       "\n",
       "    .dataframe thead th {\n",
       "        text-align: right;\n",
       "    }\n",
       "</style>\n",
       "<table border=\"1\" class=\"dataframe\">\n",
       "  <thead>\n",
       "    <tr style=\"text-align: right;\">\n",
       "      <th></th>\n",
       "      <th>country</th>\n",
       "      <th>description</th>\n",
       "      <th>designation</th>\n",
       "      <th>points</th>\n",
       "      <th>price</th>\n",
       "      <th>province</th>\n",
       "      <th>region_1</th>\n",
       "      <th>region_2</th>\n",
       "      <th>taster_name</th>\n",
       "      <th>taster_twitter_handle</th>\n",
       "      <th>title</th>\n",
       "      <th>variety</th>\n",
       "      <th>winery</th>\n",
       "    </tr>\n",
       "  </thead>\n",
       "  <tbody>\n",
       "    <tr>\n",
       "      <th>0</th>\n",
       "      <td>Italy</td>\n",
       "      <td>Aromas include tropical fruit, broom, brimston...</td>\n",
       "      <td>Vulkà Bianco</td>\n",
       "      <td>87</td>\n",
       "      <td>NaN</td>\n",
       "      <td>Sicily &amp; Sardinia</td>\n",
       "      <td>Etna</td>\n",
       "      <td>NaN</td>\n",
       "      <td>Kerin O’Keefe</td>\n",
       "      <td>@kerinokeefe</td>\n",
       "      <td>Nicosia 2013 Vulkà Bianco  (Etna)</td>\n",
       "      <td>White Blend</td>\n",
       "      <td>Nicosia</td>\n",
       "    </tr>\n",
       "    <tr>\n",
       "      <th>1</th>\n",
       "      <td>Portugal</td>\n",
       "      <td>This is ripe and fruity, a wine that is smooth...</td>\n",
       "      <td>Avidagos</td>\n",
       "      <td>87</td>\n",
       "      <td>15.0</td>\n",
       "      <td>Douro</td>\n",
       "      <td>NaN</td>\n",
       "      <td>NaN</td>\n",
       "      <td>Roger Voss</td>\n",
       "      <td>@vossroger</td>\n",
       "      <td>Quinta dos Avidagos 2011 Avidagos Red (Douro)</td>\n",
       "      <td>Portuguese Red</td>\n",
       "      <td>Quinta dos Avidagos</td>\n",
       "    </tr>\n",
       "    <tr>\n",
       "      <th>2</th>\n",
       "      <td>US</td>\n",
       "      <td>Tart and snappy, the flavors of lime flesh and...</td>\n",
       "      <td>NaN</td>\n",
       "      <td>87</td>\n",
       "      <td>14.0</td>\n",
       "      <td>Oregon</td>\n",
       "      <td>Willamette Valley</td>\n",
       "      <td>Willamette Valley</td>\n",
       "      <td>Paul Gregutt</td>\n",
       "      <td>@paulgwine</td>\n",
       "      <td>Rainstorm 2013 Pinot Gris (Willamette Valley)</td>\n",
       "      <td>Pinot Gris</td>\n",
       "      <td>Rainstorm</td>\n",
       "    </tr>\n",
       "    <tr>\n",
       "      <th>3</th>\n",
       "      <td>US</td>\n",
       "      <td>Pineapple rind, lemon pith and orange blossom ...</td>\n",
       "      <td>Reserve Late Harvest</td>\n",
       "      <td>87</td>\n",
       "      <td>13.0</td>\n",
       "      <td>Michigan</td>\n",
       "      <td>Lake Michigan Shore</td>\n",
       "      <td>NaN</td>\n",
       "      <td>Alexander Peartree</td>\n",
       "      <td>NaN</td>\n",
       "      <td>St. Julian 2013 Reserve Late Harvest Riesling ...</td>\n",
       "      <td>Riesling</td>\n",
       "      <td>St. Julian</td>\n",
       "    </tr>\n",
       "    <tr>\n",
       "      <th>4</th>\n",
       "      <td>US</td>\n",
       "      <td>Much like the regular bottling from 2012, this...</td>\n",
       "      <td>Vintner's Reserve Wild Child Block</td>\n",
       "      <td>87</td>\n",
       "      <td>65.0</td>\n",
       "      <td>Oregon</td>\n",
       "      <td>Willamette Valley</td>\n",
       "      <td>Willamette Valley</td>\n",
       "      <td>Paul Gregutt</td>\n",
       "      <td>@paulgwine</td>\n",
       "      <td>Sweet Cheeks 2012 Vintner's Reserve Wild Child...</td>\n",
       "      <td>Pinot Noir</td>\n",
       "      <td>Sweet Cheeks</td>\n",
       "    </tr>\n",
       "  </tbody>\n",
       "</table>\n",
       "</div>"
      ],
      "text/plain": [
       "    country                                        description  \\\n",
       "0     Italy  Aromas include tropical fruit, broom, brimston...   \n",
       "1  Portugal  This is ripe and fruity, a wine that is smooth...   \n",
       "2        US  Tart and snappy, the flavors of lime flesh and...   \n",
       "3        US  Pineapple rind, lemon pith and orange blossom ...   \n",
       "4        US  Much like the regular bottling from 2012, this...   \n",
       "\n",
       "                          designation  points  price           province  \\\n",
       "0                        Vulkà Bianco      87    NaN  Sicily & Sardinia   \n",
       "1                            Avidagos      87   15.0              Douro   \n",
       "2                                 NaN      87   14.0             Oregon   \n",
       "3                Reserve Late Harvest      87   13.0           Michigan   \n",
       "4  Vintner's Reserve Wild Child Block      87   65.0             Oregon   \n",
       "\n",
       "              region_1           region_2         taster_name  \\\n",
       "0                 Etna                NaN       Kerin O’Keefe   \n",
       "1                  NaN                NaN          Roger Voss   \n",
       "2    Willamette Valley  Willamette Valley        Paul Gregutt   \n",
       "3  Lake Michigan Shore                NaN  Alexander Peartree   \n",
       "4    Willamette Valley  Willamette Valley        Paul Gregutt   \n",
       "\n",
       "  taster_twitter_handle                                              title  \\\n",
       "0          @kerinokeefe                  Nicosia 2013 Vulkà Bianco  (Etna)   \n",
       "1            @vossroger      Quinta dos Avidagos 2011 Avidagos Red (Douro)   \n",
       "2           @paulgwine       Rainstorm 2013 Pinot Gris (Willamette Valley)   \n",
       "3                   NaN  St. Julian 2013 Reserve Late Harvest Riesling ...   \n",
       "4           @paulgwine   Sweet Cheeks 2012 Vintner's Reserve Wild Child...   \n",
       "\n",
       "          variety               winery  \n",
       "0     White Blend              Nicosia  \n",
       "1  Portuguese Red  Quinta dos Avidagos  \n",
       "2      Pinot Gris            Rainstorm  \n",
       "3        Riesling           St. Julian  \n",
       "4      Pinot Noir         Sweet Cheeks  "
      ]
     },
     "execution_count": 1,
     "metadata": {},
     "output_type": "execute_result"
    }
   ],
   "source": [
    "import pandas as pd\n",
    "pd.set_option(\"display.max_rows\", 5)\n",
    "reviews = pd.read_csv(\"../input/wine-reviews/winemag-data-130k-v2.csv\", index_col=0)\n",
    "\n",
    "from learntools.core import binder; binder.bind(globals())\n",
    "from learntools.pandas.summary_functions_and_maps import *\n",
    "print(\"Setup complete.\")\n",
    "\n",
    "reviews.head()"
   ]
  },
  {
   "cell_type": "markdown",
   "id": "474ea534",
   "metadata": {
    "papermill": {
     "duration": 0.019558,
     "end_time": "2022-03-25T03:16:02.864496",
     "exception": false,
     "start_time": "2022-03-25T03:16:02.844938",
     "status": "completed"
    },
    "tags": []
   },
   "source": [
    "# Exercises"
   ]
  },
  {
   "cell_type": "markdown",
   "id": "0f0c15cc",
   "metadata": {
    "papermill": {
     "duration": 0.019734,
     "end_time": "2022-03-25T03:16:02.904487",
     "exception": false,
     "start_time": "2022-03-25T03:16:02.884753",
     "status": "completed"
    },
    "tags": []
   },
   "source": [
    "## 1.\n",
    "\n",
    "What is the median of the `points` column in the `reviews` DataFrame?"
   ]
  },
  {
   "cell_type": "code",
   "execution_count": 2,
   "id": "f2284452",
   "metadata": {
    "execution": {
     "iopub.execute_input": "2022-03-25T03:16:02.948521Z",
     "iopub.status.busy": "2022-03-25T03:16:02.946728Z",
     "iopub.status.idle": "2022-03-25T03:16:02.955844Z",
     "shell.execute_reply": "2022-03-25T03:16:02.956229Z",
     "shell.execute_reply.started": "2022-03-25T03:14:58.581680Z"
    },
    "papermill": {
     "duration": 0.032139,
     "end_time": "2022-03-25T03:16:02.956389",
     "exception": false,
     "start_time": "2022-03-25T03:16:02.924250",
     "status": "completed"
    },
    "tags": []
   },
   "outputs": [
    {
     "data": {
      "application/javascript": [
       "parent.postMessage({\"jupyterEvent\": \"custom.exercise_interaction\", \"data\": {\"outcomeType\": 1, \"valueTowardsCompletion\": 0.14285714285714285, \"interactionType\": 1, \"questionType\": 1, \"questionId\": \"1_MedianPoints\", \"learnToolsVersion\": \"0.3.4\", \"failureMessage\": \"\", \"exceptionClass\": \"\", \"trace\": \"\"}}, \"*\")"
      ],
      "text/plain": [
       "<IPython.core.display.Javascript object>"
      ]
     },
     "metadata": {},
     "output_type": "display_data"
    },
    {
     "data": {
      "text/markdown": [
       "<span style=\"color:#33cc33\">Correct</span>"
      ],
      "text/plain": [
       "Correct"
      ]
     },
     "metadata": {},
     "output_type": "display_data"
    }
   ],
   "source": [
    "median_points = reviews['points'].median()\n",
    "\n",
    "# Check your answer\n",
    "q1.check()"
   ]
  },
  {
   "cell_type": "code",
   "execution_count": 3,
   "id": "be2e7da4",
   "metadata": {
    "execution": {
     "iopub.execute_input": "2022-03-25T03:16:03.002621Z",
     "iopub.status.busy": "2022-03-25T03:16:03.001795Z",
     "iopub.status.idle": "2022-03-25T03:16:03.006597Z",
     "shell.execute_reply": "2022-03-25T03:16:03.006116Z"
    },
    "papermill": {
     "duration": 0.029819,
     "end_time": "2022-03-25T03:16:03.006762",
     "exception": false,
     "start_time": "2022-03-25T03:16:02.976943",
     "status": "completed"
    },
    "tags": []
   },
   "outputs": [],
   "source": [
    "#q1.hint()\n",
    "#q1.solution()"
   ]
  },
  {
   "cell_type": "markdown",
   "id": "c2de8ed5",
   "metadata": {
    "papermill": {
     "duration": 0.02082,
     "end_time": "2022-03-25T03:16:03.048850",
     "exception": false,
     "start_time": "2022-03-25T03:16:03.028030",
     "status": "completed"
    },
    "tags": []
   },
   "source": [
    "## 2. \n",
    "What countries are represented in the dataset? (Your answer should not include any duplicates.)"
   ]
  },
  {
   "cell_type": "code",
   "execution_count": 4,
   "id": "497beab1",
   "metadata": {
    "execution": {
     "iopub.execute_input": "2022-03-25T03:16:03.103609Z",
     "iopub.status.busy": "2022-03-25T03:16:03.103087Z",
     "iopub.status.idle": "2022-03-25T03:16:03.107314Z",
     "shell.execute_reply": "2022-03-25T03:16:03.106860Z",
     "shell.execute_reply.started": "2022-03-25T03:15:02.567063Z"
    },
    "papermill": {
     "duration": 0.037351,
     "end_time": "2022-03-25T03:16:03.107422",
     "exception": false,
     "start_time": "2022-03-25T03:16:03.070071",
     "status": "completed"
    },
    "tags": []
   },
   "outputs": [
    {
     "data": {
      "application/javascript": [
       "parent.postMessage({\"jupyterEvent\": \"custom.exercise_interaction\", \"data\": {\"outcomeType\": 1, \"valueTowardsCompletion\": 0.14285714285714285, \"interactionType\": 1, \"questionType\": 2, \"questionId\": \"2_UniqueCountries\", \"learnToolsVersion\": \"0.3.4\", \"failureMessage\": \"\", \"exceptionClass\": \"\", \"trace\": \"\"}}, \"*\")"
      ],
      "text/plain": [
       "<IPython.core.display.Javascript object>"
      ]
     },
     "metadata": {},
     "output_type": "display_data"
    },
    {
     "data": {
      "text/markdown": [
       "<span style=\"color:#33cc33\">Correct</span>"
      ],
      "text/plain": [
       "Correct"
      ]
     },
     "metadata": {},
     "output_type": "display_data"
    }
   ],
   "source": [
    "countries = reviews['country'].unique()\n",
    "\n",
    "# Check your answer\n",
    "q2.check()"
   ]
  },
  {
   "cell_type": "code",
   "execution_count": 5,
   "id": "30f43267",
   "metadata": {
    "execution": {
     "iopub.execute_input": "2022-03-25T03:16:03.156796Z",
     "iopub.status.busy": "2022-03-25T03:16:03.156155Z",
     "iopub.status.idle": "2022-03-25T03:16:03.159412Z",
     "shell.execute_reply": "2022-03-25T03:16:03.158918Z"
    },
    "papermill": {
     "duration": 0.029464,
     "end_time": "2022-03-25T03:16:03.159587",
     "exception": false,
     "start_time": "2022-03-25T03:16:03.130123",
     "status": "completed"
    },
    "tags": []
   },
   "outputs": [],
   "source": [
    "#q2.hint()\n",
    "#q2.solution()"
   ]
  },
  {
   "cell_type": "markdown",
   "id": "e7e4df32",
   "metadata": {
    "papermill": {
     "duration": 0.021706,
     "end_time": "2022-03-25T03:16:03.203782",
     "exception": false,
     "start_time": "2022-03-25T03:16:03.182076",
     "status": "completed"
    },
    "tags": []
   },
   "source": [
    "## 3.\n",
    "How often does each country appear in the dataset? Create a Series `reviews_per_country` mapping countries to the count of reviews of wines from that country."
   ]
  },
  {
   "cell_type": "code",
   "execution_count": 6,
   "id": "d15e1be8",
   "metadata": {
    "execution": {
     "iopub.execute_input": "2022-03-25T03:16:03.259856Z",
     "iopub.status.busy": "2022-03-25T03:16:03.259289Z",
     "iopub.status.idle": "2022-03-25T03:16:03.262923Z",
     "shell.execute_reply": "2022-03-25T03:16:03.263402Z",
     "shell.execute_reply.started": "2022-03-25T03:15:06.128238Z"
    },
    "papermill": {
     "duration": 0.03777,
     "end_time": "2022-03-25T03:16:03.263540",
     "exception": false,
     "start_time": "2022-03-25T03:16:03.225770",
     "status": "completed"
    },
    "tags": []
   },
   "outputs": [
    {
     "data": {
      "application/javascript": [
       "parent.postMessage({\"jupyterEvent\": \"custom.exercise_interaction\", \"data\": {\"outcomeType\": 1, \"valueTowardsCompletion\": 0.14285714285714285, \"interactionType\": 1, \"questionType\": 1, \"questionId\": \"3_ReviewsPerCountry\", \"learnToolsVersion\": \"0.3.4\", \"failureMessage\": \"\", \"exceptionClass\": \"\", \"trace\": \"\"}}, \"*\")"
      ],
      "text/plain": [
       "<IPython.core.display.Javascript object>"
      ]
     },
     "metadata": {},
     "output_type": "display_data"
    },
    {
     "data": {
      "text/markdown": [
       "<span style=\"color:#33cc33\">Correct</span>"
      ],
      "text/plain": [
       "Correct"
      ]
     },
     "metadata": {},
     "output_type": "display_data"
    }
   ],
   "source": [
    "reviews_per_country = reviews['country'].value_counts()\n",
    "\n",
    "# Check your answer\n",
    "q3.check()"
   ]
  },
  {
   "cell_type": "code",
   "execution_count": 7,
   "id": "d0a7c7b4",
   "metadata": {
    "execution": {
     "iopub.execute_input": "2022-03-25T03:16:03.313608Z",
     "iopub.status.busy": "2022-03-25T03:16:03.313096Z",
     "iopub.status.idle": "2022-03-25T03:16:03.316004Z",
     "shell.execute_reply": "2022-03-25T03:16:03.316414Z",
     "shell.execute_reply.started": "2022-03-25T00:54:06.465639Z"
    },
    "papermill": {
     "duration": 0.02866,
     "end_time": "2022-03-25T03:16:03.316559",
     "exception": false,
     "start_time": "2022-03-25T03:16:03.287899",
     "status": "completed"
    },
    "tags": []
   },
   "outputs": [],
   "source": [
    "#q3.hint()\n",
    "#q3.solution()"
   ]
  },
  {
   "cell_type": "markdown",
   "id": "ee6b51a9",
   "metadata": {
    "papermill": {
     "duration": 0.022293,
     "end_time": "2022-03-25T03:16:03.361331",
     "exception": false,
     "start_time": "2022-03-25T03:16:03.339038",
     "status": "completed"
    },
    "tags": []
   },
   "source": [
    "## 4.\n",
    "Create variable `centered_price` containing a version of the `price` column with the mean price subtracted.\n",
    "\n",
    "(Note: this 'centering' transformation is a common preprocessing step before applying various machine learning algorithms.) "
   ]
  },
  {
   "cell_type": "code",
   "execution_count": 8,
   "id": "5dacd4ea",
   "metadata": {
    "execution": {
     "iopub.execute_input": "2022-03-25T03:16:03.409596Z",
     "iopub.status.busy": "2022-03-25T03:16:03.409077Z",
     "iopub.status.idle": "2022-03-25T03:16:03.415122Z",
     "shell.execute_reply": "2022-03-25T03:16:03.415574Z",
     "shell.execute_reply.started": "2022-03-25T03:15:08.805924Z"
    },
    "papermill": {
     "duration": 0.031721,
     "end_time": "2022-03-25T03:16:03.415748",
     "exception": false,
     "start_time": "2022-03-25T03:16:03.384027",
     "status": "completed"
    },
    "tags": []
   },
   "outputs": [
    {
     "data": {
      "application/javascript": [
       "parent.postMessage({\"jupyterEvent\": \"custom.exercise_interaction\", \"data\": {\"outcomeType\": 1, \"valueTowardsCompletion\": 0.14285714285714285, \"interactionType\": 1, \"questionType\": 1, \"questionId\": \"4_CenteredPrice\", \"learnToolsVersion\": \"0.3.4\", \"failureMessage\": \"\", \"exceptionClass\": \"\", \"trace\": \"\"}}, \"*\")"
      ],
      "text/plain": [
       "<IPython.core.display.Javascript object>"
      ]
     },
     "metadata": {},
     "output_type": "display_data"
    },
    {
     "data": {
      "text/markdown": [
       "<span style=\"color:#33cc33\">Correct</span>"
      ],
      "text/plain": [
       "Correct"
      ]
     },
     "metadata": {},
     "output_type": "display_data"
    }
   ],
   "source": [
    "centered_price = reviews['price'] - reviews['price'].mean()\n",
    "\n",
    "# Check your answer\n",
    "q4.check()"
   ]
  },
  {
   "cell_type": "code",
   "execution_count": 9,
   "id": "6e42a75b",
   "metadata": {
    "execution": {
     "iopub.execute_input": "2022-03-25T03:16:03.465575Z",
     "iopub.status.busy": "2022-03-25T03:16:03.465114Z",
     "iopub.status.idle": "2022-03-25T03:16:03.467260Z",
     "shell.execute_reply": "2022-03-25T03:16:03.466867Z"
    },
    "papermill": {
     "duration": 0.028581,
     "end_time": "2022-03-25T03:16:03.467374",
     "exception": false,
     "start_time": "2022-03-25T03:16:03.438793",
     "status": "completed"
    },
    "tags": []
   },
   "outputs": [],
   "source": [
    "#q4.hint()\n",
    "#q4.solution()"
   ]
  },
  {
   "cell_type": "markdown",
   "id": "c290ebf4",
   "metadata": {
    "papermill": {
     "duration": 0.023116,
     "end_time": "2022-03-25T03:16:03.513925",
     "exception": false,
     "start_time": "2022-03-25T03:16:03.490809",
     "status": "completed"
    },
    "tags": []
   },
   "source": [
    "## 5.\n",
    "I'm an economical wine buyer. Which wine is the \"best bargain\"? Create a variable `bargain_wine` with the title of the wine with the highest points-to-price ratio in the dataset."
   ]
  },
  {
   "cell_type": "code",
   "execution_count": 10,
   "id": "fa32add0",
   "metadata": {
    "execution": {
     "iopub.execute_input": "2022-03-25T03:16:03.564400Z",
     "iopub.status.busy": "2022-03-25T03:16:03.563894Z",
     "iopub.status.idle": "2022-03-25T03:16:03.574194Z",
     "shell.execute_reply": "2022-03-25T03:16:03.574620Z",
     "shell.execute_reply.started": "2022-03-25T03:15:12.014725Z"
    },
    "papermill": {
     "duration": 0.036979,
     "end_time": "2022-03-25T03:16:03.574789",
     "exception": false,
     "start_time": "2022-03-25T03:16:03.537810",
     "status": "completed"
    },
    "tags": []
   },
   "outputs": [
    {
     "data": {
      "application/javascript": [
       "parent.postMessage({\"jupyterEvent\": \"custom.exercise_interaction\", \"data\": {\"outcomeType\": 1, \"valueTowardsCompletion\": 0.14285714285714285, \"interactionType\": 1, \"questionType\": 2, \"questionId\": \"5_BargainWine\", \"learnToolsVersion\": \"0.3.4\", \"failureMessage\": \"\", \"exceptionClass\": \"\", \"trace\": \"\"}}, \"*\")"
      ],
      "text/plain": [
       "<IPython.core.display.Javascript object>"
      ]
     },
     "metadata": {},
     "output_type": "display_data"
    },
    {
     "data": {
      "text/markdown": [
       "<span style=\"color:#33cc33\">Correct</span>"
      ],
      "text/plain": [
       "Correct"
      ]
     },
     "metadata": {},
     "output_type": "display_data"
    }
   ],
   "source": [
    "points_to_price = (reviews.points/reviews.price).idxmax()\n",
    "bargain_wine = reviews.loc[points_to_price, 'title']\n",
    "\n",
    "# Check your answer\n",
    "q5.check()"
   ]
  },
  {
   "cell_type": "code",
   "execution_count": 11,
   "id": "3a9a8d03",
   "metadata": {
    "execution": {
     "iopub.execute_input": "2022-03-25T03:16:03.628527Z",
     "iopub.status.busy": "2022-03-25T03:16:03.628022Z",
     "iopub.status.idle": "2022-03-25T03:16:03.631694Z",
     "shell.execute_reply": "2022-03-25T03:16:03.631095Z",
     "shell.execute_reply.started": "2022-03-25T01:29:38.645361Z"
    },
    "papermill": {
     "duration": 0.032127,
     "end_time": "2022-03-25T03:16:03.631810",
     "exception": false,
     "start_time": "2022-03-25T03:16:03.599683",
     "status": "completed"
    },
    "tags": []
   },
   "outputs": [],
   "source": [
    "# q5.hint()\n",
    "# q5.solution()"
   ]
  },
  {
   "cell_type": "markdown",
   "id": "a7fe05b0",
   "metadata": {
    "papermill": {
     "duration": 0.024664,
     "end_time": "2022-03-25T03:16:03.681511",
     "exception": false,
     "start_time": "2022-03-25T03:16:03.656847",
     "status": "completed"
    },
    "tags": []
   },
   "source": [
    "## 6.\n",
    "There are only so many words you can use when describing a bottle of wine. Is a wine more likely to be \"tropical\" or \"fruity\"? Create a Series `descriptor_counts` counting how many times each of these two words appears in the `description` column in the dataset. (For simplicity, let's ignore the capitalized versions of these words.)"
   ]
  },
  {
   "cell_type": "code",
   "execution_count": 12,
   "id": "3b9c2dde",
   "metadata": {
    "execution": {
     "iopub.execute_input": "2022-03-25T03:16:03.756141Z",
     "iopub.status.busy": "2022-03-25T03:16:03.745552Z",
     "iopub.status.idle": "2022-03-25T03:16:03.848728Z",
     "shell.execute_reply": "2022-03-25T03:16:03.848167Z",
     "shell.execute_reply.started": "2022-03-25T03:15:17.684343Z"
    },
    "papermill": {
     "duration": 0.142048,
     "end_time": "2022-03-25T03:16:03.848839",
     "exception": false,
     "start_time": "2022-03-25T03:16:03.706791",
     "status": "completed"
    },
    "tags": []
   },
   "outputs": [
    {
     "data": {
      "application/javascript": [
       "parent.postMessage({\"jupyterEvent\": \"custom.exercise_interaction\", \"data\": {\"outcomeType\": 1, \"valueTowardsCompletion\": 0.14285714285714285, \"interactionType\": 1, \"questionType\": 1, \"questionId\": \"6_DescriptorCounts\", \"learnToolsVersion\": \"0.3.4\", \"failureMessage\": \"\", \"exceptionClass\": \"\", \"trace\": \"\"}}, \"*\")"
      ],
      "text/plain": [
       "<IPython.core.display.Javascript object>"
      ]
     },
     "metadata": {},
     "output_type": "display_data"
    },
    {
     "data": {
      "text/markdown": [
       "<span style=\"color:#33cc33\">Correct</span>"
      ],
      "text/plain": [
       "Correct"
      ]
     },
     "metadata": {},
     "output_type": "display_data"
    }
   ],
   "source": [
    "count_tropical = 0\n",
    "count_fruity = 0\n",
    "for des in reviews.description:\n",
    "    if (\"tropical\" in des):\n",
    "        count_tropical += 1\n",
    "    if (\"fruity\" in des):\n",
    "        count_fruity += 1\n",
    "list1 = [count_tropical, count_fruity]\n",
    "descriptor_counts = pd.Series(list1, index = ['tropical', 'fruity'])\n",
    "descriptor_counts\n",
    "# Check your answer\n",
    "q6.check()"
   ]
  },
  {
   "cell_type": "code",
   "execution_count": 13,
   "id": "5397efab",
   "metadata": {
    "execution": {
     "iopub.execute_input": "2022-03-25T03:16:03.907201Z",
     "iopub.status.busy": "2022-03-25T03:16:03.906615Z",
     "iopub.status.idle": "2022-03-25T03:16:03.913483Z",
     "shell.execute_reply": "2022-03-25T03:16:03.912937Z",
     "shell.execute_reply.started": "2022-03-25T01:38:31.290948Z"
    },
    "papermill": {
     "duration": 0.038966,
     "end_time": "2022-03-25T03:16:03.913596",
     "exception": false,
     "start_time": "2022-03-25T03:16:03.874630",
     "status": "completed"
    },
    "tags": []
   },
   "outputs": [
    {
     "data": {
      "application/javascript": [
       "parent.postMessage({\"jupyterEvent\": \"custom.exercise_interaction\", \"data\": {\"interactionType\": 3, \"questionType\": 1, \"questionId\": \"6_DescriptorCounts\", \"learnToolsVersion\": \"0.3.4\", \"valueTowardsCompletion\": 0.0, \"failureMessage\": \"\", \"exceptionClass\": \"\", \"trace\": \"\", \"outcomeType\": 4}}, \"*\")"
      ],
      "text/plain": [
       "<IPython.core.display.Javascript object>"
      ]
     },
     "metadata": {},
     "output_type": "display_data"
    },
    {
     "data": {
      "text/markdown": [
       "<span style=\"color:#33cc99\">Solution:</span> \n",
       "```python\n",
       "n_trop = reviews.description.map(lambda desc: \"tropical\" in desc).sum()\n",
       "n_fruity = reviews.description.map(lambda desc: \"fruity\" in desc).sum()\n",
       "descriptor_counts = pd.Series([n_trop, n_fruity], index=['tropical', 'fruity'])\n",
       "```"
      ],
      "text/plain": [
       "Solution: \n",
       "```python\n",
       "n_trop = reviews.description.map(lambda desc: \"tropical\" in desc).sum()\n",
       "n_fruity = reviews.description.map(lambda desc: \"fruity\" in desc).sum()\n",
       "descriptor_counts = pd.Series([n_trop, n_fruity], index=['tropical', 'fruity'])\n",
       "```"
      ]
     },
     "metadata": {},
     "output_type": "display_data"
    }
   ],
   "source": [
    "#q6.hint()\n",
    "q6.solution()"
   ]
  },
  {
   "cell_type": "markdown",
   "id": "753bc91a",
   "metadata": {
    "papermill": {
     "duration": 0.026042,
     "end_time": "2022-03-25T03:16:03.966060",
     "exception": false,
     "start_time": "2022-03-25T03:16:03.940018",
     "status": "completed"
    },
    "tags": []
   },
   "source": [
    "## 7.\n",
    "We'd like to host these wine reviews on our website, but a rating system ranging from 80 to 100 points is too hard to understand - we'd like to translate them into simple star ratings. A score of 95 or higher counts as 3 stars, a score of at least 85 but less than 95 is 2 stars. Any other score is 1 star.\n",
    "\n",
    "Also, the Canadian Vintners Association bought a lot of ads on the site, so any wines from Canada should automatically get 3 stars, regardless of points.\n",
    "\n",
    "Create a series `star_ratings` with the number of stars corresponding to each review in the dataset."
   ]
  },
  {
   "cell_type": "code",
   "execution_count": 14,
   "id": "bcf9e7b3",
   "metadata": {
    "execution": {
     "iopub.execute_input": "2022-03-25T03:16:04.028308Z",
     "iopub.status.busy": "2022-03-25T03:16:04.023876Z",
     "iopub.status.idle": "2022-03-25T03:16:07.340033Z",
     "shell.execute_reply": "2022-03-25T03:16:07.339496Z",
     "shell.execute_reply.started": "2022-03-25T03:14:13.307411Z"
    },
    "papermill": {
     "duration": 3.347536,
     "end_time": "2022-03-25T03:16:07.340161",
     "exception": false,
     "start_time": "2022-03-25T03:16:03.992625",
     "status": "completed"
    },
    "tags": []
   },
   "outputs": [
    {
     "data": {
      "application/javascript": [
       "parent.postMessage({\"jupyterEvent\": \"custom.exercise_interaction\", \"data\": {\"outcomeType\": 1, \"valueTowardsCompletion\": 0.14285714285714285, \"interactionType\": 1, \"questionType\": 1, \"questionId\": \"7_StarRatings\", \"learnToolsVersion\": \"0.3.4\", \"failureMessage\": \"\", \"exceptionClass\": \"\", \"trace\": \"\"}}, \"*\")"
      ],
      "text/plain": [
       "<IPython.core.display.Javascript object>"
      ]
     },
     "metadata": {},
     "output_type": "display_data"
    },
    {
     "data": {
      "text/markdown": [
       "<span style=\"color:#33cc33\">Correct</span>"
      ],
      "text/plain": [
       "Correct"
      ]
     },
     "metadata": {},
     "output_type": "display_data"
    }
   ],
   "source": [
    "#method 1: write a function\n",
    "def convert_to_stars(x): \n",
    "    if x.country == 'Canada':\n",
    "        return 3\n",
    "    if x.points >= 95:\n",
    "        return 3\n",
    "    elif x.points >= 85:\n",
    "        return 2\n",
    "    else:\n",
    "        return 1\n",
    "\n",
    "star_ratings = reviews.apply(convert_to_stars, axis = 1)\n",
    "star_ratings\n",
    "# Check your answer\n",
    "q7.check()"
   ]
  },
  {
   "cell_type": "code",
   "execution_count": 15,
   "id": "44953a11",
   "metadata": {
    "execution": {
     "iopub.execute_input": "2022-03-25T03:16:07.402304Z",
     "iopub.status.busy": "2022-03-25T03:16:07.401667Z",
     "iopub.status.idle": "2022-03-25T03:16:07.405628Z",
     "shell.execute_reply": "2022-03-25T03:16:07.404959Z",
     "shell.execute_reply.started": "2022-03-25T02:35:51.041434Z"
    },
    "papermill": {
     "duration": 0.036736,
     "end_time": "2022-03-25T03:16:07.405801",
     "exception": false,
     "start_time": "2022-03-25T03:16:07.369065",
     "status": "completed"
    },
    "tags": []
   },
   "outputs": [],
   "source": [
    "#q7.hint()\n",
    "#q7.solution()"
   ]
  },
  {
   "cell_type": "markdown",
   "id": "16e06366",
   "metadata": {
    "papermill": {
     "duration": 0.042403,
     "end_time": "2022-03-25T03:16:07.491071",
     "exception": false,
     "start_time": "2022-03-25T03:16:07.448668",
     "status": "completed"
    },
    "tags": []
   },
   "source": [
    "# Keep going\n",
    "Continue to **[grouping and sorting](https://www.kaggle.com/residentmario/grouping-and-sorting)**."
   ]
  },
  {
   "cell_type": "markdown",
   "id": "9259666d",
   "metadata": {
    "papermill": {
     "duration": 0.041309,
     "end_time": "2022-03-25T03:16:07.573980",
     "exception": false,
     "start_time": "2022-03-25T03:16:07.532671",
     "status": "completed"
    },
    "tags": []
   },
   "source": [
    "---\n",
    "\n",
    "\n",
    "\n",
    "\n",
    "*Have questions or comments? Visit the [course discussion forum](https://www.kaggle.com/learn/pandas/discussion) to chat with other learners.*"
   ]
  }
 ],
 "metadata": {
  "kernelspec": {
   "display_name": "Python 3",
   "language": "python",
   "name": "python3"
  },
  "language_info": {
   "codemirror_mode": {
    "name": "ipython",
    "version": 3
   },
   "file_extension": ".py",
   "mimetype": "text/x-python",
   "name": "python",
   "nbconvert_exporter": "python",
   "pygments_lexer": "ipython3",
   "version": "3.7.12"
  },
  "papermill": {
   "default_parameters": {},
   "duration": 23.379015,
   "end_time": "2022-03-25T03:16:08.227420",
   "environment_variables": {},
   "exception": null,
   "input_path": "__notebook__.ipynb",
   "output_path": "__notebook__.ipynb",
   "parameters": {},
   "start_time": "2022-03-25T03:15:44.848405",
   "version": "2.3.3"
  }
 },
 "nbformat": 4,
 "nbformat_minor": 5
}
